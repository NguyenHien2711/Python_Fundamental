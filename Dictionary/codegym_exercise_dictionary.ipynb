{
 "cells": [
  {
   "cell_type": "markdown",
   "id": "a2de685f",
   "metadata": {},
   "source": [
    "#### Ứng dụng quản lý sản phẩm"
   ]
  },
  {
   "cell_type": "code",
   "execution_count": null,
   "id": "b3bc5cab",
   "metadata": {},
   "outputs": [],
   "source": [
    "data_product = {\n",
    "    12034: ['Milk', 'Sữa tươi nhập khẩu loại 1'],\n",
    "    12945: ['Milk', 'Sữa tươi nhập khẩu loại 2'],\n",
    "    12234: ['Cake', 'Bánh Đài Loan'],\n",
    "    12145: ['Cake', 'Bánh Nhật Bản']}\n",
    "# Hiển thị danh sách sản phẩm\n",
    "# Thêm sản phẩm mới vào danh sách\n",
    "# Sửa tên của sản phẩm trong danh sách\n",
    "# Xoá một sản phẩm khỏi danh sách\n",
    "def showinfo(data_source):\n",
    "    '''Show list products'''\n",
    "    header = 'ID'.ljust(10, ' ') + 'Name'.ljust(20, ' ') + 'Description'.ljust(30,' ')\n",
    "    print(header)\n",
    "    print('-'.ljust(70,'-'))\n",
    "    for key, val in data_source.items():\n",
    "        row = f'{key}'.ljust(10, ' ') + f'{val[0]}'.ljust(20, ' ') + f'{val[1]}'.ljust(30, ' ')\n",
    "        print(row)\n",
    "\n",
    "def add_new_product(data_source, id, name, description):\n",
    "        if id in data_source.keys():\n",
    "            print('Already existed')\n",
    "        else:\n",
    "            data_source[id] = [name, description]\n",
    "            #Return list product to confirm, (apply function showinfo)\n",
    "            return showinfo(data_source)\n",
    "        \n",
    "def adjust_name(data, id, newname):\n",
    "    if id in data.keys():\n",
    "        data[id][0] = newname\n",
    "        print('Adjustment completed')\n",
    "        return showinfo(data)\n",
    "    else:\n",
    "        print('ID not exist')\n",
    "\n",
    "def delete(data, id):\n",
    "    data.pop(id)\n",
    "\n",
    "#Build program\n",
    "while True:\n",
    "    print('PRODUCT MANAGEMENT')\n",
    "    print(''.ljust(40,'-'))\n",
    "    print('1. Hiển thị danh sách sản phẩm')\n",
    "    print('2. Thêm sản phẩm mới vào danh sách')\n",
    "    print('3. Sửa tên của sản phẩm trong danh sách')\n",
    "    print('4. Xoá một sản phẩm khỏi danh sách')\n",
    "    print('5. Thoát khỏi chương trình')\n",
    "    option = int(input('Enter your choice: '))\n",
    "    if option == 1:\n",
    "        showinfo(data_product)\n",
    "    elif option ==2:\n",
    "        id = input('ID: ')\n",
    "        newname = input('New name: ')\n",
    "        new_des = input('New description: ')\n",
    "        add_new_product(data_product, id, newname, new_des)\n",
    "    elif option ==3: \n",
    "        id = input('ID: ')\n",
    "        newname = input('New name: ')\n",
    "        adjust_name(data_product, id, newname)\n",
    "    elif option ==4:\n",
    "        id = input('ID: ')\n",
    "        delete(data_product, id)\n",
    "    else:\n",
    "        confirm = input('Are you sure to end program (enter yes if agree, no if not agree): ')\n",
    "        if confirm.lower() == 'yes':\n",
    "            break\n"
   ]
  },
  {
   "cell_type": "markdown",
   "id": "8153693f",
   "metadata": {},
   "source": [
    "#### [Bài tập] Count number of occurrence of words in a given text."
   ]
  },
  {
   "cell_type": "code",
   "execution_count": null,
   "id": "47022092",
   "metadata": {},
   "outputs": [],
   "source": [
    "# Viết chương trình đếm số lần xuất hiện của một từ trong một văn bản nhất định (đã cho sẵn)\n",
    "\n",
    "def count_word(text, word):\n",
    "    new_text = text.split()\n",
    "    confirm = False\n",
    "    count = 0\n",
    "    for i in new_text:\n",
    "        if i.strip().lower() == word.lower().strip():\n",
    "            count +=1\n",
    "            confirm = True\n",
    "        if confirm == True:\n",
    "            return count\n",
    "        else:\n",
    "            print('Không tìm thấy')\n",
    "text = input('Nhập dữ liệu: ')\n",
    "word = input('Nhập từ cần tìm kiếm: ')\n",
    "print(count_word(text, word))\n"
   ]
  },
  {
   "cell_type": "markdown",
   "id": "4c364be4",
   "metadata": {},
   "source": [
    "#### [Bài tập] Từ điển (Python)"
   ]
  },
  {
   "cell_type": "code",
   "execution_count": null,
   "id": "b6cd6de6",
   "metadata": {},
   "outputs": [],
   "source": [
    "# Viết chương trình cho phép người dùng tra cứu các từ tiếng Anh sang tiếng Việt bằng cách nhập từ cần tra cứu. \n",
    "# Danh sách các từ được lưu trữ sẵn trong một Dictionary.\n",
    "data_ = {\n",
    "    'variety': 'Đa dạng, phong phú',\n",
    "    'ingredient':  'Thành phần, nguyên liệu',\n",
    "    'overeating': 'Ăn nhiều so với ngưỡng cần thiết',\n",
    "    'overweight': 'Thừa cân'}\n",
    "\n",
    "def dictionary(data, word):\n",
    "    for key, val in data.items():\n",
    "        if key == word.strip().lower():\n",
    "            return val\n",
    "            break\n",
    "        else:\n",
    "            print('Không tìm thấy từ cần tìm trong từ điển')\n",
    "            \n",
    "input = input('Nhập từ: ')\n",
    "print(dictionary(data_, input))\n"
   ]
  }
 ],
 "metadata": {
  "kernelspec": {
   "display_name": "Python 3 (ipykernel)",
   "language": "python",
   "name": "python3"
  },
  "language_info": {
   "codemirror_mode": {
    "name": "ipython",
    "version": 3
   },
   "file_extension": ".py",
   "mimetype": "text/x-python",
   "name": "python",
   "nbconvert_exporter": "python",
   "pygments_lexer": "ipython3",
   "version": "3.9.12"
  }
 },
 "nbformat": 4,
 "nbformat_minor": 5
}
