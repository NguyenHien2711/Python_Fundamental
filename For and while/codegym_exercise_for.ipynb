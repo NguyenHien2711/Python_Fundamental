{
 "cells": [
  {
   "cell_type": "markdown",
   "id": "1c42933b",
   "metadata": {},
   "source": [
    "#### [Bài tập] Fizz Buzz (Python)"
   ]
  },
  {
   "cell_type": "code",
   "execution_count": null,
   "id": "af656747",
   "metadata": {},
   "outputs": [],
   "source": [
    "a = int(input('a= '))\n",
    "b = int(input('b= '))\n",
    "if a<b:\n",
    "    for i in range(a, b+1, 1):\n",
    "        if i%3==0 and i%5==0:\n",
    "            print('FizzBuzz')\n",
    "        elif i%3 == 0:\n",
    "            print('Fizz')\n",
    "        elif i%5 == 0:\n",
    "            print('Buzz')\n",
    "        else: \n",
    "            print(i)"
   ]
  },
  {
   "cell_type": "markdown",
   "id": "f951d497",
   "metadata": {},
   "source": [
    "#### [Bài tập] The 21 Game\n",
    "Trò chơi 21 là trò chơi số đếm được bắt đầu từ 0, hai người chơi lần lượt có thể thêm 1, 2 hoặc 3, vào tổng số. Tổng số<br>không được vượt quá21 và người chơi đếm tới 21 sẽ thua. Ở bài tập này, chúng ta sẽ giả định cho máy làm người chơi thứ 2. <br> "
   ]
  },
  {
   "cell_type": "code",
   "execution_count": null,
   "id": "23580974",
   "metadata": {},
   "outputs": [],
   "source": [
    "import random\n",
    "start = 0 \n",
    "while True:\n",
    "    current_player = random.randint(0,1)\n",
    "    if current_player ==0:\n",
    "        current_player ='Human'\n",
    "        print('Human come first')\n",
    "    else:\n",
    "        current_player ='Computer'\n",
    "        print('Computer come first')\n",
    "    while True:\n",
    "        if current_player =='Human':\n",
    "            while True:\n",
    "                try:\n",
    "                    player_add = int(input('Enter 1, 2, or 3: '))\n",
    "                    if player_add <0 or player_add>3:\n",
    "                        raise ValueError\n",
    "                    break \n",
    "                except ValueError:\n",
    "                    print(\"Invalid integer. The number must be in the range of 1-3.\")\n",
    "            start += player_add\n",
    "            if start>21:\n",
    "                print('Computer win')\n",
    "                break\n",
    "            else:\n",
    "                computer_add = random.randint(1,3)\n",
    "                start += computer_add\n",
    "                if start>21:\n",
    "                    print('Human win')\n",
    "                    break\n",
    "                else: \n",
    "                    print(f'Computer add {computer_add}')\n",
    "        else:\n",
    "            computer_add = random.randint(1,3)\n",
    "            start += computer_add\n",
    "            if start>21:\n",
    "                print('Human win')\n",
    "                break\n",
    "            else: \n",
    "                print(f'Computer add {computer_add}')\n",
    "                while True:\n",
    "                    try:\n",
    "                        player_add = int(input('Enter 1, 2, or 3: '))\n",
    "                        if player_add <0 or player_add>3:\n",
    "                            raise ValueError\n",
    "                        break \n",
    "                    except ValueError:\n",
    "                        print(\"Invalid integer. The number must be in the range of 1-3.\")\n",
    "                start += player_add\n",
    "                if start>21:\n",
    "                    print('Computer win')\n",
    "                    break\n",
    "    option = input('Do you want continue (yes or no): ')\n",
    "    if option.lower() == 'yes':\n",
    "        break\n"
   ]
  },
  {
   "cell_type": "markdown",
   "id": "8cda062b",
   "metadata": {},
   "source": [
    "#### Viết chương trình hiển thị tất cả các bảng cửu chương từ 1 đến 9."
   ]
  },
  {
   "cell_type": "code",
   "execution_count": null,
   "id": "46caee55",
   "metadata": {},
   "outputs": [],
   "source": [
    "row = ''\n",
    "for number in range(1,10):\n",
    "    for i in range(1,10):\n",
    "        row = row + str(i) + 'x' + str(number)+ '='+ str(number*i) + '\\t'\n",
    "    print(row)\n",
    "    row = ''"
   ]
  }
 ],
 "metadata": {
  "kernelspec": {
   "display_name": "Python 3",
   "language": "python",
   "name": "python3"
  },
  "language_info": {
   "codemirror_mode": {
    "name": "ipython",
    "version": 3
   },
   "file_extension": ".py",
   "mimetype": "text/x-python",
   "name": "python",
   "nbconvert_exporter": "python",
   "pygments_lexer": "ipython3",
   "version": "3.11.0 (main, Oct 24 2022, 18:26:48) [MSC v.1933 64 bit (AMD64)]"
  },
  "vscode": {
   "interpreter": {
    "hash": "1f6a27bcfbe46a917dbd192f4a82657396dda26148bae633192e8d28c70725f1"
   }
  }
 },
 "nbformat": 4,
 "nbformat_minor": 5
}
