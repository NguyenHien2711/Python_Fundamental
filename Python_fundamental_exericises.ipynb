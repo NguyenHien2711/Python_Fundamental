{
 "cells": [
  {
   "cell_type": "markdown",
   "id": "4243fb94",
   "metadata": {},
   "source": [
    "Kiểm tra 3 độ dài a,b,c có tạo thành một tam giác và vẽ tam giác bằng turtle"
   ]
  },
  {
   "cell_type": "code",
   "execution_count": null,
   "id": "9ecc02ab",
   "metadata": {},
   "outputs": [],
   "source": [
    "import math\n",
    "import turtle\n",
    "def mathornot(ab,ac,bc):\n",
    "    '''ab=10, ac=13, bc=15 nhập input, điều kiện là tam giác hay không vẽ tam giác'''\n",
    "    tamgiac = (ab+ac)>bc and (ab+bc)>ac and (ac+bc)>ab\n",
    "    if tamgiac:\n",
    "        print('Đây là tam giác',tamgiac)\n",
    "        cosA=(ab**2+ac**2-bc**2)/(2*ab*ac)\n",
    "        cosB=(ab**2+bc**2-ac**2)/(2*ab*bc)\n",
    "        cosC=(ac**2+bc**2-ab**2)/(2*ac*bc)\n",
    "\n",
    "        gA=(math.degrees(math.acos(cosA)))\n",
    "        gB=(math.degrees(math.acos(cosB)))\n",
    "        gC=(math.degrees(math.acos(cosC)))\n",
    "\n",
    "        t=turtle.Turtle()\n",
    "        t.shape()\n",
    "        t.color('red')\n",
    "\n",
    "        t.forward(ab)\n",
    "        t.left(180-gB)\n",
    "        t.forward(bc)\n",
    "        t.left(180-gC)\n",
    "        t.forward(ac)\n",
    "        t.left(180-gA)\n",
    "\n",
    "        turtle.done()\n",
    "    else: \n",
    "        print('Đây là tam giác',tamgiac)\n",
    "    \n",
    "ab=int(input('ab= '))\n",
    "ac=int(input('ac= '))\n",
    "bc=int(input('bc= '))\n",
    "mathornot(ab,ac,bc)"
   ]
  },
  {
   "cell_type": "markdown",
   "id": "1fc58d66",
   "metadata": {},
   "source": [
    "Bài 1: Nhập vào toạ độ của 3 điểm A, B, C. Xác định 3 điểm A, B, C có phải là 3 điểm của tam giác hay không? \n",
    "Vẽ tam giác. <br>\n",
    "Tính độ dài của các đường cao từ các đỉnh, <br>\n",
    "tính độ dài của các trung tuyến từ các đỉnh, <br>\n",
    "xác định toạ độ của trọng tâm và trực tâm của ABC. Visualize các kết quả lên turtle!<br>"
   ]
  },
  {
   "cell_type": "code",
   "execution_count": null,
   "id": "4ec43e5c",
   "metadata": {},
   "outputs": [],
   "source": [
    "xa=int(input('xa= '))\n",
    "ya=int(input('ya= '))\n",
    "xb=int(input('xb= '))\n",
    "yb=int(input('yb= '))\n",
    "xc=int(input('xc= '))\n",
    "yc=int(input('yc= '))\n",
    "\n",
    "import math \n",
    "import turtle\n",
    "ab=math.sqrt((xb-xa)**2+(yb-ya)**2)\n",
    "bc=math.sqrt((xc-xb)**2+(yc-yb)**2)\n",
    "ac=math.sqrt((xc-xa)**2+(yc-ya)**2)\n",
    "\n",
    "xab=xb-xa\n",
    "yab=yb-ya\n",
    "xac=xc-xa\n",
    "yac=yc-ya\n",
    "xbc=xc-xb\n",
    "ybc=yc-yb\n",
    "\n",
    "tamgiac=(xab/xac)!=(yab/yac)\n",
    "print('Đây là tam giác: ',tamgiac)\n",
    "#Vẽ tam giác.\n",
    "\n",
    "color=input('Màu:')\n",
    "t=turtle.Turtle()\n",
    "t.color(color)\n",
    "t.pensize(2)\n",
    "\n",
    "t.penup()\n",
    "t.goto(xa,ya)\n",
    "t.pendown()\n",
    "t.goto(xb,yb)\n",
    "t.goto(xc,yc)\n",
    "t.goto(xa,ya)\n",
    "\n",
    "#Tính độ dài của các đường cao từ các đỉnh, \n",
    "s=1/4*math.sqrt((ab+ac+bc)*(ab+ac-bc)*(ab+bc-ac)*(bc+ac-ab))\n",
    "hbc=2*s/bc\n",
    "hab=2*s/ab\n",
    "hac=2*s/ac\n",
    "print('Độ dài 3 đường cao của tam giác là {0};{1};{2}'.format(hbc,hab,hac))\n",
    "#tính độ dài của các trung tuyến từ các đỉnh,\n",
    "#M,N,P lần lượt là trung điểm AB,BC,AC\n",
    "xm=(xa+xb)/2\n",
    "ym=(ya+yb)/2\n",
    "xn=(xb+xc)/2\n",
    "yn=(yb+yc)/2\n",
    "xp=(xa+xc)/2\n",
    "yp=(xa+xc)/2\n",
    "\n",
    "CM=math.sqrt((xm-xc)**2+(ym-yc)**2)\n",
    "AN=math.sqrt((xn-xa)**2+(yn-ya)**2)\n",
    "BP=math.sqrt((xp-xb)**2+(yp-yb)**2)\n",
    "print('Độ dài 3 đường trung tuyến lần lượt là {0};{1};{2}'.format(CM,AN,BP))\n",
    "#xác định toạ độ của trọng tâm của ABC.\n",
    "xg=(xa+xb+xc)/3\n",
    "yg=(ya+yb+yc)/3\n",
    "t.penup()\n",
    "t.goto(xg,yg)\n",
    "t.pendown()\n",
    "t.dot(5,color)"
   ]
  },
  {
   "cell_type": "markdown",
   "id": "de9266f9",
   "metadata": {},
   "source": [
    "Nhập toạ độ của 1 tứ giác. Lập biểu thức để kiểm tra tứ giác đó là một tứ giác lồi hay tứ giác lõm. \n",
    "Vẽ tứ giác đó với màu bất kỳ nhập từ bàn phím\n",
    "Hướng giải quyết: Kiểm tra 4 điểm có tạo thành tứ giác hay không(không có 3 điểm nào thẳng hàng), \n"
   ]
  },
  {
   "cell_type": "code",
   "execution_count": 1,
   "id": "bfe883ba",
   "metadata": {},
   "outputs": [
    {
     "name": "stdout",
     "output_type": "stream",
     "text": [
      "Nhập Tọa độ x của điểm A= 1\n",
      "Nhập Tọa độ y của điểm A= 2\n",
      "Nhập Tọa độ x của điểm B= 4\n",
      "Nhập Tọa độ y của điểm B= 5\n",
      "Nhập Tọa độ x của điểm C= 3\n",
      "Nhập Tọa độ y của điểm C= 2\n",
      "Nhập Tọa độ x của điểm D= 4\n",
      "Nhập Tọa độ x của điểm D= 2\n",
      "Tứ giác lồi:  False\n",
      "Màu: red\n"
     ]
    }
   ],
   "source": [
    "xa=int(input('Nhập Tọa độ x của điểm A= '))\n",
    "ya=int(input('Nhập Tọa độ y của điểm A= '))\n",
    "xb=int(input('Nhập Tọa độ x của điểm B= '))\n",
    "yb=int(input('Nhập Tọa độ y của điểm B= '))\n",
    "xc=int(input('Nhập Tọa độ x của điểm C= '))\n",
    "yc=int(input('Nhập Tọa độ y của điểm C= '))\n",
    "xd=int(input('Nhập Tọa độ x của điểm D= '))\n",
    "yd=int(input('Nhập Tọa độ x của điểm D= '))\n",
    "\n",
    "import math \n",
    "AB=math.sqrt((xb-xa)**2+(yb-ya)**2)\n",
    "BC=math.sqrt((xc-xb)**2+(yc-yb)**2)\n",
    "AC=math.sqrt((xc-xa)**2+(yc-ya)**2)\n",
    "CD=math.sqrt((xd-xc)**2+(yd-yc)**2)\n",
    "DA=math.sqrt((xa-xd)**2+(ya-yd)**2)\n",
    "BD=math.sqrt((xd-xb)**2+(yd-yb)**2)\n",
    "\n",
    "cosA=(AB**2+DA**2-BD**2)/(2*AB*DA)\n",
    "cosB=(AB**2+BC**2-AC**2)/(2*AB*BC)\n",
    "cosC=(BC**2+CD**2-BD**2)/(2*BC*CD)\n",
    "cosD=(DA**2+CD**2-AC**2)/(2*DA*CD)\n",
    "\n",
    "tugiacloi= (cosA>-1 and cosA<1) and (cosB>-1 and cosB<1) and (cosC>-1 and cosC<1) and (cosD>-1 and cosD<1)\n",
    "print('Tứ giác lồi: ', tugiacloi)\n",
    "\n",
    "color=input('Màu: ')\n",
    "import turtle \n",
    "t=turtle.Turtle()\n",
    "t.shape()\n",
    "t.pensize(1)\n",
    "t.pencolor(color)\n",
    "t.penup()\n",
    "t.goto(xa,ya)\n",
    "t.pendown()\n",
    "t.goto(xb,yb)\n",
    "t.goto(xc,yc)\n",
    "t.goto(xd,yd)\n",
    "t.goto(xa,ya)\n",
    "\n",
    "turtle.done()"
   ]
  },
  {
   "cell_type": "markdown",
   "id": "d6d6833c",
   "metadata": {},
   "source": [
    "Xây dựng hàm với tham số là một chuỗi các kí tự bất kỳ gồm chữ cái và chữ số. Các số trong chuỗi được xác định bởi các dấu cách. Chức năng của hàm là tìm số chẵn lớn nhất, số lẻ nhỏ nhất từ tham số chuỗi. \n",
    "Ví dụ giá trị của tham số là: \"abd 34 tr13 85 sh 342 21 def\" thì giá trị tìm được là 342 và 21."
   ]
  },
  {
   "cell_type": "code",
   "execution_count": null,
   "id": "313e052c",
   "metadata": {},
   "outputs": [],
   "source": [
    "def min_maxx(m):\n",
    "    m=m.split()\n",
    "    max_even=None\n",
    "    min_odd=None\n",
    "    for i in m:\n",
    "        if i.isnumeric():\n",
    "            if int(i)%2==0:\n",
    "                max_even=int(i) if max_even==None else int(i) if max_even<int(i) else max_even\n",
    "            else:\n",
    "                min_odd=int(i) if min_odd==None else int(i) if min_odd>int(i) else min_odd\n",
    "    return f'Số chẵn lớn nhất là {max_even}, bé nhất là {min_odd}'\n",
    "m=input('nhập dãy số: ')\n",
    "min_maxx(m)"
   ]
  },
  {
   "cell_type": "markdown",
   "id": "f13913ad",
   "metadata": {},
   "source": [
    "Một vã vạch hàng hóa là một chuỗi có 13 chữ số, chữ số cuối cùng gọi là chữ số kiểm tra C. Gọi A là tổng các chữ số ở vị trí lẻ (trừ chữ số kiểm tra C). Gọi B là tổng các chữ số ở vị trí chẵn. Gọi D = A + 3B. Nếu phần dư của D chia cho 10 khác không thì F=10-phần dư, ngược lại F = 0. Một mã vạch được coi là mã vạch đúng nếu F=C. Viết phần mềm kiểm tra tính đúng đắn của một mã vạch nhập vào. Ví dụ: 4902778120972 là 1 mã vạch đúng, 4902778120973 là không phải mã vạch.\n"
   ]
  },
  {
   "cell_type": "code",
   "execution_count": null,
   "id": "43c3c611",
   "metadata": {},
   "outputs": [],
   "source": [
    "N=input('N= ')\n",
    "A=0\n",
    "B=0\n",
    "i=0 \n",
    "while i<12:\n",
    "    A=A+ int(N[i+1])\n",
    "    B=B+ int(N[i])\n",
    "    i+=2\n",
    "D=A+3*B\n",
    "if D%10==0:\n",
    "    if int(N[12])==0:\n",
    "        print(f'{N} là mã vạch đúng')\n",
    "else:\n",
    "    if (10-D%10)==int(N[12]):\n",
    "        print(f'{N} là mã vạch đúng')\n",
    "print(f'{N} không là mã vạch đúng')\n",
    "    "
   ]
  },
  {
   "cell_type": "markdown",
   "id": "a319b855",
   "metadata": {},
   "source": [
    "Nhập một chuỗi gồm các kí tự là số. Tìm chuỗi con trong chuỗi vừa nhập là chuỗi gồm các số giảm dần dài nhất. Ví dụ nhập chuỗi “09543134247431035” thì có hai chuỗi thoả mãn là “95431” và “74310”."
   ]
  },
  {
   "cell_type": "code",
   "execution_count": null,
   "id": "df14cd07",
   "metadata": {},
   "outputs": [],
   "source": [
    "m='09543134247431035'\n",
    "def timchuoicon(m):\n",
    "    k=''\n",
    "    for i in range(len(m)):\n",
    "        if i==0:\n",
    "            k+=m[i]\n",
    "        else:\n",
    "            if int(m[i])<int(m[i-1]):\n",
    "                k+=m[i]\n",
    "            else:\n",
    "                k+=' '+m[i]\n",
    "    return k\n",
    "str=timchuoicon(m)\n",
    "str=str.split()\n",
    "print(str)\n",
    "max_len_item=[]#Tạo 1 list\n",
    "#Tìm đâu là chiều dài lớn nhất\n",
    "max_len=len(str[0])\n",
    "for i in str:\n",
    "    if len(i)>max_len:\n",
    "        max_len=len(i)\n",
    "#tìm những số nào có độ dài len lớn nhất \n",
    "for i in str:\n",
    "    if len(i)==max_len:\n",
    "        max_len_item.append(i)\n",
    "print(max_len_item)"
   ]
  },
  {
   "cell_type": "markdown",
   "id": "7d970c9b",
   "metadata": {},
   "source": [
    "Reverse 1 chuỗi string"
   ]
  },
  {
   "cell_type": "code",
   "execution_count": null,
   "id": "ea6b7d52",
   "metadata": {},
   "outputs": [],
   "source": [
    "def reverse(text):\n",
    "    '''Input: Nguyen Thi Hien\n",
    "    Output: Hien thi Nguyen\n",
    "    Parameters: \n",
    "    text\n",
    "    Return:'''\n",
    "    text=text.split()\n",
    "    k=''\n",
    "    for i in range(len(text)):\n",
    "        k+=text[len(text)-1-i]+\" \"\n",
    "    return k\n",
    "reverse('Nguyen thi thuy hien1')\n",
    "def reverse1(text1):\n",
    "    text1=text1.split()[::-1]\n",
    "    l=[]\n",
    "    for i in text1:\n",
    "        l.append(i)\n",
    "    return ' '.join(l)\n",
    "reverse1('Nguyen thi thuy hien')"
   ]
  },
  {
   "cell_type": "markdown",
   "id": "2c960b68",
   "metadata": {},
   "source": [
    "BÀI TẬP DICTIONARY<br>Viết chương trình sử dụng dict chưa 10 user name và password.\n",
    "Chương trình yêu cầu nhập vào username và pass,\n",
    "nếu user name o có trong dict, chương trình báo user name o tồn tại\n",
    "nếu user name đúng mà password sai thì báo : PASSWORD SAI\n",
    "nếu user, pass đúng thì báo bạn đã login thành công"
   ]
  },
  {
   "cell_type": "code",
   "execution_count": null,
   "id": "65499b9d",
   "metadata": {},
   "outputs": [],
   "source": [
    "dic={\"user1\" : \"123456\",\n",
    "    \"user2\" : \"123456\",\n",
    "    \"user3\" : \"123456\",\n",
    "    \"user4\" : \"123456\",\n",
    "    \"user5\" : \"123456\",\n",
    "    \"user6\" : \"123456\",\n",
    "    \"user7\" : \"123456\",\n",
    "    \"user8\" : \"123456\",\n",
    "    \"user9\" : \"123456\",\n",
    "    \"user10\" : \"123456\"} \n",
    "username='user4'\n",
    "password='13532'\n",
    "\n",
    "for key,val in dic.items():\n",
    "    if key == username:\n",
    "        if val != password:\n",
    "            print('PASSWORD SAI')\n",
    "            break\n",
    "        else:\n",
    "            print('Login thành công')\n",
    "            break\n",
    "    else:\n",
    "        print('User name không tồn tại')\n",
    "        break"
   ]
  },
  {
   "cell_type": "markdown",
   "id": "764b5e55",
   "metadata": {},
   "source": [
    "Tách số và chữ , hiển thị lên màn hình, tính tổng các số, chuyển đổi chuỗi : \"University of Technology and Education\" sang số"
   ]
  },
  {
   "cell_type": "code",
   "execution_count": 3,
   "id": "3c540595",
   "metadata": {},
   "outputs": [
    {
     "name": "stdout",
     "output_type": "stream",
     "text": [
      "86\n",
      "UNIVERSITY OF TECHNOLOGY AND EDUCATION\n",
      "1114111114 14 1134111124 112 121311111\n"
     ]
    }
   ],
   "source": [
    "dict_01 = {\n",
    "    \"A\":1,\"B\":2,\"C\":3,\"D\":2,\"E\":1,\"F\":4,\"G\":2,\n",
    "    \"H\":4,\"I\":1,\"J\":8,\"K\":5,\"L\":1,\"M\":3,\"N\":1,\n",
    "    \"O\":1,\"P\":3,\"Q\":10,\"R\":1,\"S\":1,\"T\":1,\"U\":1,\n",
    "    \"V\":4,\"W\":4,\"X\":8,\"Y\":4,\"Z\":10}\n",
    "\n",
    "dict_1 = []\n",
    "dict_2 = []\n",
    "for key,val in dict_01.items():\n",
    "    dict_1.append(key)\n",
    "    dict_2.append(val)\n",
    "S = 0\n",
    "for i in dict_2:\n",
    "    S+= int(i)\n",
    "print(S)\n",
    "text = 'University of Technology and Education'\n",
    "text = text.upper()\n",
    "print(text)\n",
    "newtext = ''\n",
    "for i in text:\n",
    "    if i in dict_01:\n",
    "        newtext += str(dict_01[i])\n",
    "    else:\n",
    "        newtext += ' '\n",
    "print(newtext)\n",
    "    "
   ]
  },
  {
   "cell_type": "markdown",
   "id": "105d7ea4",
   "metadata": {},
   "source": [
    "Đếm số ký tự trong chuỗi sử dụng hàm"
   ]
  },
  {
   "cell_type": "code",
   "execution_count": 7,
   "id": "118c1551",
   "metadata": {},
   "outputs": [
    {
     "data": {
      "text/plain": [
       "20"
      ]
     },
     "execution_count": 7,
     "metadata": {},
     "output_type": "execute_result"
    }
   ],
   "source": [
    "def count_value_string(str):\n",
    "    count = 0\n",
    "    for i in str:\n",
    "        count +=1\n",
    "    return count\n",
    "str = 'Nguyen Thi Thuy Hien'\n",
    "count_value_string(str)"
   ]
  },
  {
   "cell_type": "markdown",
   "id": "a050e35b",
   "metadata": {},
   "source": [
    "Viết chương trình cho người dùng nhập vào 3 số nguyên bất kỳ, sau đó sẽ in ra thứ tự tăng dần của 3 số nguyên được nhập vào."
   ]
  },
  {
   "cell_type": "code",
   "execution_count": 5,
   "id": "86aa3c4a",
   "metadata": {},
   "outputs": [
    {
     "name": "stdout",
     "output_type": "stream",
     "text": [
      "Nhập số A: 5\n",
      "Nhập số B: 3\n",
      "Nhập số C: 5\n",
      "3\n",
      "5\n",
      "5\n"
     ]
    }
   ],
   "source": [
    "def sort(a,b,c):\n",
    "    max = a\n",
    "    newlist = [a, b, c]\n",
    "    newsortlist = sorted(newlist, reverse=False)\n",
    "    for i in newsortlist:\n",
    "        print(i)\n",
    "a = int(input('Nhập số A: '))\n",
    "b = int(input('Nhập số B: '))\n",
    "c = int(input('Nhập số C: '))\n",
    "\n",
    "sort(a,b,c)\n",
    "# print('sorted number: ', x, y, z )"
   ]
  },
  {
   "cell_type": "markdown",
   "id": "1b7f417b",
   "metadata": {},
   "source": [
    "Tìm giá trị nhỏ nhất trong danh sách mảng số cho trước"
   ]
  },
  {
   "cell_type": "code",
   "execution_count": 6,
   "id": "77b79df7",
   "metadata": {},
   "outputs": [
    {
     "name": "stdout",
     "output_type": "stream",
     "text": [
      "Min number:  2\n"
     ]
    }
   ],
   "source": [
    "def get_min_value(numbers):\n",
    "    result = numbers[0]\n",
    "    for num in numbers:\n",
    "        if result >num:\n",
    "            result = num\n",
    "            return result\n",
    "numbers = [1,2,4,6,23,4]\n",
    "min_number = get_min_value(numbers)\n",
    "print('Min number: ', min_number)"
   ]
  },
  {
   "cell_type": "markdown",
   "id": "3e3547cf",
   "metadata": {},
   "source": [
    "Khởi  tạo một list chứa các số cho trước. Tìm hai số lớn nhất của list vừa tạo được"
   ]
  },
  {
   "cell_type": "code",
   "execution_count": 26,
   "id": "50b33b40",
   "metadata": {},
   "outputs": [
    {
     "name": "stdout",
     "output_type": "stream",
     "text": [
      "[24, 15]\n"
     ]
    }
   ],
   "source": [
    "a = [1,24,4,4,5,2,15]\n",
    "a.sort(reverse = True)\n",
    "if len(a)>1:\n",
    "    k = a[0:2]\n",
    "    print(k)\n",
    "else:\n",
    "    print(k)\n"
   ]
  },
  {
   "cell_type": "markdown",
   "id": "74de3c31",
   "metadata": {},
   "source": [
    "Bài tập For "
   ]
  },
  {
   "cell_type": "code",
   "execution_count": 4,
   "id": "392c8277",
   "metadata": {},
   "outputs": [
    {
     "data": {
      "text/plain": [
       "True"
      ]
     },
     "execution_count": 4,
     "metadata": {},
     "output_type": "execute_result"
    }
   ],
   "source": [
    "def ktkhong(array):    \n",
    "    for i in range(len(array)):\n",
    "        if array[i]==array[i+1]==0:\n",
    "            #chỉ viêt được trong python\n",
    "            return True\n",
    "    return False\n",
    "ktkhong([1,2,4,1,1,0,0])"
   ]
  },
  {
   "cell_type": "code",
   "execution_count": 5,
   "id": "96ba18ca",
   "metadata": {},
   "outputs": [
    {
     "data": {
      "text/plain": [
       "1"
      ]
     },
     "execution_count": 5,
     "metadata": {},
     "output_type": "execute_result"
    }
   ],
   "source": [
    "def ktr(list):\n",
    "    '''Kiểm tra mảng số nguyên có tồn tại giá trị chẵn hay không'''\n",
    "    for i in list:\n",
    "        if i%2==0:\n",
    "            return 1\n",
    "    return 0\n",
    "ktr([1,3,5,1,1,2,1])\n",
    "    "
   ]
  },
  {
   "cell_type": "code",
   "execution_count": 6,
   "id": "52fae49e",
   "metadata": {},
   "outputs": [
    {
     "data": {
      "text/plain": [
       "0"
      ]
     },
     "execution_count": 6,
     "metadata": {},
     "output_type": "execute_result"
    }
   ],
   "source": [
    "def kt(list):\n",
    "    '''Kiểm tra mảng có toàn số chẵn hay không, nếu tồn tại giá trị lẻ trả \n",
    "    giá trị 0, ngược lại 1'''\n",
    "    for i in list:\n",
    "        if i%2!=0:\n",
    "            return 0\n",
    "    return 1\n",
    "kt([1,3,5,1,1,2,1])"
   ]
  },
  {
   "cell_type": "code",
   "execution_count": 8,
   "id": "8643eba2",
   "metadata": {},
   "outputs": [
    {
     "data": {
      "text/plain": [
       "'Không Đối xứng'"
      ]
     },
     "execution_count": 8,
     "metadata": {},
     "output_type": "execute_result"
    }
   ],
   "source": [
    "def kt1(list1):\n",
    "    '''kiểm tra mảng một chiều các số thực có đối xứng hay không'''\n",
    "    for i in range(len(list1)):\n",
    "        if list[i]!=list[-1-i]:\n",
    "            return 'Không Đối xứng'\n",
    "    return 'đối xứng'\n",
    "kt1([1,3,5,5,3,1])"
   ]
  },
  {
   "cell_type": "code",
   "execution_count": 9,
   "id": "a296a828",
   "metadata": {},
   "outputs": [
    {
     "data": {
      "text/plain": [
       "'Mang khong co tinh chan le'"
      ]
     },
     "execution_count": 9,
     "metadata": {},
     "output_type": "execute_result"
    }
   ],
   "source": [
    "def kt2(l):\n",
    "    '''Định nghĩa một mảng có tính chẵn lẻ, khi tổng của hai phần tử liên tiếp\n",
    "    trong mảng luôn luôn là số lẻ\n",
    "    input[1,2,3,4,5] có tính lẻ'''\n",
    "    for i in range(len(l)-1):\n",
    "        if (l[i]%2==0 and l[i+1]%2==0) or (l[i]%2!=0 and l[i+1]%2!=0):\n",
    "            return 'Mang khong co tinh chan le'\n",
    "    return 'Mang co tinh chan le'\n",
    "kt2([1,2,3,3,5])"
   ]
  },
  {
   "cell_type": "code",
   "execution_count": 10,
   "id": "b6eb9a28",
   "metadata": {},
   "outputs": [
    {
     "data": {
      "text/plain": [
       "'Mảng ko có tính tăng dần'"
      ]
     },
     "execution_count": 10,
     "metadata": {},
     "output_type": "execute_result"
    }
   ],
   "source": [
    "def kt3(l):\n",
    "    '''Kiểm tra mảng có tính tăng dần không'''\n",
    "    for i in range(len(l)-1):\n",
    "        if l[i]>l[i+1] or l[i]==l[i+1]:\n",
    "            return 'Mảng ko có tính tăng dần'\n",
    "    return 'Mảng có tính tăng dần'\n",
    "kt3([1,2,3,3,5])"
   ]
  },
  {
   "cell_type": "code",
   "execution_count": 11,
   "id": "b9b950c2",
   "metadata": {},
   "outputs": [
    {
     "data": {
      "text/plain": [
       "(True, 'công sai là 1')"
      ]
     },
     "execution_count": 11,
     "metadata": {},
     "output_type": "execute_result"
    }
   ],
   "source": [
    "def kt4(l):\n",
    "    '''\"Hãy cho biết các phần tử trong mảng có \n",
    "    lập thành cấp số cộng không? Nếu có hãy chỉ ra công sai d\n",
    "    input 1 3 5 7 9 \"'''\n",
    "    d=l[1]-l[0]\n",
    "    for i in range(len(l)-1):\n",
    "        if l[i+1]-l[i]!=d:\n",
    "            return False\n",
    "    return True, f'công sai là {d}'\n",
    "kt4([1,2,3,4,5])\n",
    "    "
   ]
  },
  {
   "cell_type": "code",
   "execution_count": 12,
   "id": "07ba8509",
   "metadata": {},
   "outputs": [
    {
     "data": {
      "text/plain": [
       "True"
      ]
     },
     "execution_count": 12,
     "metadata": {},
     "output_type": "execute_result"
    }
   ],
   "source": [
    "def kt5(l):\n",
    "    '''\"Hãy cho biết các phần tử trong mảng có bằng nhau không?\"'''\n",
    "    k=l[0]\n",
    "    for i in range(len(l)-1):\n",
    "        if l[i]!=l[i+1]:\n",
    "            return False\n",
    "    return True\n",
    "kt5([1,1])    "
   ]
  },
  {
   "cell_type": "code",
   "execution_count": 13,
   "id": "489fed35",
   "metadata": {},
   "outputs": [
    {
     "data": {
      "text/plain": [
       "False"
      ]
     },
     "execution_count": 13,
     "metadata": {},
     "output_type": "execute_result"
    }
   ],
   "source": [
    "def kt(l):\n",
    "    '''Người ta định nghĩa một mảng được gọi là “dạng sóng” \n",
    "    khi phần tử có giá trị số I lớn hơn hoặc nhỏ hơn \n",
    "    hai phần tử xung quanh nó. Hãy viết hàm kiểm tra trong a sóng hay không?\"\n",
    "   ]\n",
    "   input: [1,2,1,5,7,1]\n",
    "'''\n",
    "    for i in range(len(l)-2):\n",
    "        if l[i]<l[i+1]<l[i+2] or l[i]>l[i+1]>l[i+2]: \n",
    "            return False\n",
    "    return True\n",
    "kt([1,2,1,5,2,5,7])   "
   ]
  },
  {
   "cell_type": "code",
   "execution_count": 14,
   "id": "3c4eac1c",
   "metadata": {},
   "outputs": [
    {
     "data": {
      "text/plain": [
       "5"
      ]
     },
     "execution_count": 14,
     "metadata": {},
     "output_type": "execute_result"
    }
   ],
   "source": [
    "def kt(l):\n",
    "    '''Hãy đếm số lượng giá trị trong mảng thỏa tính chất:\n",
    "    “lớn hơn tất cả các giá trị đứng đằng trước nó'''\n",
    "    m=None \n",
    "    count=0\n",
    "    for i in  l:\n",
    "        if m==None or i>m:\n",
    "            count+=1\n",
    "        m=i\n",
    "    return count\n",
    "kt([1,2,1,5,2,5,7])   "
   ]
  },
  {
   "cell_type": "code",
   "execution_count": 15,
   "id": "db69ad4f",
   "metadata": {},
   "outputs": [
    {
     "data": {
      "text/plain": [
       "[2, 2, 0, 1, 1, 5, 5, 7]"
      ]
     },
     "execution_count": 15,
     "metadata": {},
     "output_type": "execute_result"
    }
   ],
   "source": [
    "# \"Hãy đưa các số chẵn trong mảng về đầu mảng, số lẻ về cuối mảng và các phần tử 0 năm ở giữa\"\n",
    "    \n",
    "def sapxep(l):\n",
    "    m=[]\n",
    "    for i in l:\n",
    "        if i%2==0 and i!=0:\n",
    "            m.append(i)\n",
    "    for i in l:\n",
    "        if i==0:\n",
    "            m.append(i)\n",
    "    for i in l:\n",
    "        if i%2!=0:\n",
    "            m.append(i)\n",
    "    return m\n",
    "sapxep([1,2,1,5,0,2,5,7])"
   ]
  },
  {
   "cell_type": "code",
   "execution_count": 16,
   "id": "2b460a12",
   "metadata": {},
   "outputs": [
    {
     "data": {
      "text/plain": [
       "[0, 1, 2, 1, 5, 2, 5, 7]"
      ]
     },
     "execution_count": 16,
     "metadata": {},
     "output_type": "execute_result"
    }
   ],
   "source": [
    "#     \"Hãy đưa các số chia hết cho 3 về đầu mảng\"\n",
    "def sapxep(l):\n",
    "    m=[]\n",
    "    for i in l:\n",
    "        if i%3==0:\n",
    "            m.append(i)\n",
    "    for i in l:\n",
    "        if i%3!=0:\n",
    "            m.append(i)\n",
    "    return m\n",
    "sapxep([1,2,1,5,0,2,5,7])"
   ]
  },
  {
   "cell_type": "code",
   "execution_count": 17,
   "id": "dde2b0e4",
   "metadata": {},
   "outputs": [
    {
     "name": "stdout",
     "output_type": "stream",
     "text": [
      "20!=  2432902008176640000\n"
     ]
    }
   ],
   "source": [
    "#tính tổng N tính giai thừa của N\n",
    "#N!\n",
    "n=20\n",
    "S=1\n",
    "i=1\n",
    "while i<=n:\n",
    "    S=S*i\n",
    "    i+=1\n",
    "print(f'{n}!= ',S)"
   ]
  },
  {
   "cell_type": "code",
   "execution_count": 18,
   "id": "6c16a720",
   "metadata": {},
   "outputs": [
    {
     "name": "stdout",
     "output_type": "stream",
     "text": [
      "n= 4\n",
      "1 2 4 "
     ]
    }
   ],
   "source": [
    "#Nhập vào số N, in ra màn hình tất cả các số là ước của N \n",
    "n=int(input('n= '))\n",
    "i=1\n",
    "while i<=n:\n",
    "    if n%i==0:\n",
    "        print(i,end=\" \")\n",
    "    i+=1"
   ]
  },
  {
   "cell_type": "code",
   "execution_count": 21,
   "id": "bff04ca1",
   "metadata": {},
   "outputs": [
    {
     "name": "stdout",
     "output_type": "stream",
     "text": [
      "N= 6\n",
      "6 là số hợp số\n"
     ]
    }
   ],
   "source": [
    "n=int(input('N= '))\n",
    "i=2\n",
    "count=0\n",
    "while i<=n/2:\n",
    "    if n%i==0:\n",
    "        count+=1\n",
    "        break \n",
    "    i+=1\n",
    "if count>0:\n",
    "    print(f'{n} là số hợp số')\n",
    "else:\n",
    "    print(f'{n} là số nguyên tố')"
   ]
  },
  {
   "cell_type": "code",
   "execution_count": null,
   "id": "d33a0d84",
   "metadata": {},
   "outputs": [],
   "source": [
    "line = '*'\n",
    "max_length = 10\n",
    "\n",
    "while len(line) < max_length:\n",
    "    print(line)\n",
    "    line += \"*\"\n",
    "    \n",
    "while len(line) > 0:\n",
    "    print(line)\n",
    "    line = line[:-1]"
   ]
  },
  {
   "cell_type": "markdown",
   "id": "1f6cac4b",
   "metadata": {},
   "source": [
    "Viết chương trình chuyển tiếng Việt có dấu sang tiếng Việt không có dấu. \n",
    "Ví dụ: Nhập vào là \"Nguyễn văn bình\" thì kết quả là \"Nguyen van binh\"."
   ]
  },
  {
   "cell_type": "code",
   "execution_count": null,
   "id": "3cc22ab4",
   "metadata": {},
   "outputs": [],
   "source": [
    "Name = input(\"Nhập tên muốn tìm kiếm: \")\n",
    "Name.strip()\n",
    "\n",
    "string1 = \"áàảãạăắằẳẵặâấầẩẫậ\"\n",
    "string2 = \"ÁÀẢÃẠĂẮẰẲẴẶÂẤẦẨẪẬ\"\n",
    "string3 = \"éèẻẽẹêếềểễệ\"\n",
    "string4 = \"ÉÈẺẼẸÊẾỀỂỄỆ\"\n",
    "string5 = \"óòỏõọôốồổỗộơớờởỡợ\"\n",
    "string6 = \"ÓÒỎÕỌÔỐỒỔỖỘƠỚỜỞỠỢ\"\n",
    "string7 = \"íìỉĩị\"\n",
    "string8 = \"ÍÌỈĨỊ\"\n",
    "string9 = \"úùủũụưứừửữự\"\n",
    "string10 = \"ÚÙỦŨỤƯỨỪỬỮỰ\"\n",
    "string11 = \"ýỳỷỹỵ\"\n",
    "string12 = \"ÝỲỶỸỴ\"\n",
    "string13 = \"đ\"\n",
    "string14 = \"Đ\"\n",
    "\n",
    "newName = \"\"\n",
    "for char in Name:\n",
    "    if char in string1:\n",
    "        newName += 'a'\n",
    "    elif char in string2:\n",
    "        newName += 'A'\n",
    "    elif char in string3:\n",
    "        newName += 'e'\n",
    "    elif char in string4:\n",
    "        newName += 'E'\n",
    "    elif char in string5:\n",
    "        newName += 'o'\n",
    "    elif char in string6:\n",
    "        newName += 'O'\n",
    "    elif char in string7:\n",
    "        newName += 'i'\n",
    "    elif char in string8:\n",
    "        newName += 'I'\n",
    "    elif char in string9:\n",
    "        newName += 'u'\n",
    "    elif char in string10:\n",
    "        newName += 'U'\n",
    "    elif char in string11:\n",
    "        newName += 'y'\n",
    "    elif char in string12:\n",
    "        newName += 'Y'\n",
    "    elif char in string13:\n",
    "        newName += 'd'\n",
    "    elif char in string14:\n",
    "        newName += 'D'\n",
    "    else:\n",
    "        newName += char\n",
    "print(newName)"
   ]
  },
  {
   "cell_type": "markdown",
   "id": "7505a0a8",
   "metadata": {},
   "source": [
    "Find maximun negative number and minimum positive number in a list"
   ]
  },
  {
   "cell_type": "code",
   "execution_count": null,
   "id": "7e957a7f",
   "metadata": {},
   "outputs": [],
   "source": [
    "def timso(a):\n",
    "    '''Nhập vào một chuỗi gồm các số tự nhiên cách nhau một khoảng trắng. \n",
    "    Tính tổng, tính trung bình cộng các số. Tìm số âm lớn nhất và số dương bé nhất trong chuỗi vừa nhập.-1 4 0 -4 -3 3'''\n",
    "    a=input() #khi để a=input() ở dưới thì khi mỗi lân dùng def sẽ hỏi input, cần khai báo biến vd như m, còn a là đăc trưng thôi \n",
    "    a=a.split()\n",
    "    tong=0 #hàm sum, làm tròn là round(a,2)\n",
    "    for i in a:\n",
    "        tong=tong+int(i)\n",
    "    print('Tổng các số là: ', tong)\n",
    "    print('Trung bình cộng các số là: ', tong/len(a))\n",
    "#Đầu tiên xác định có số âm không \n",
    "    negative_max=None  #gắn bất cứ chữ số nào cũng đựọc\n",
    "#none là không có giá trị ko là số ko là chữ \n",
    "    positive_min=None\n",
    "    for i in a:\n",
    "        if int(i)<0:#tìm xem có sô âm không \n",
    "            if negative_max==None:\n",
    "                negative_max=int(i)\n",
    "            else: \n",
    "                if negative_max<int(i):\n",
    "                    negative_max=int(i)\n",
    "    for i in a:\n",
    "        if int(i)>0:\n",
    "            if positive_min==None:\n",
    "                positive_min=int(i)\n",
    "            else:\n",
    "                if positive_min>int(i):\n",
    "                    positive_min=int(i)\n",
    "    print(f'Số âm lớn nhất là {negative_max} số dương bé nhất là {positive_min}')\n",
    "m=0\n",
    "timso(m)\n"
   ]
  },
  {
   "cell_type": "code",
   "execution_count": null,
   "id": "e2064f9d",
   "metadata": {},
   "outputs": [],
   "source": [
    "#Định nghĩa hàm số giải phương trình bậc 2 \n",
    "import math \n",
    "def gpt(a,b,c):\n",
    "    if a==0:\n",
    "        if b==0:\n",
    "            if c==o:\n",
    "                return'Phương trình vô số nghiệm'\n",
    "            else:\n",
    "                return'Phương trình vô nghiệm'\n",
    "        else:\n",
    "            x=-c/b\n",
    "    else: \n",
    "        y=b**2-4*a*c\n",
    "        if y<0:\n",
    "            return'Phương trình vô nghiệm'\n",
    "        elif y==0:\n",
    "            x=-b/(2*a)\n",
    "            return x\n",
    "        else:\n",
    "            x1=(-b+ math.sqrt(y))/(2*a)\n",
    "            x2=(-b- math.sqrt(y))/(2*a)\n",
    "            return x1,x2\n",
    "gpt(3,-7,1)\n",
    "    #Nếu mình cho return về pt có 2 nghiệm x1 x2, nếu phía sau\n",
    "    #cần dùng x1,x2 thì mình không sử dụng được, tác dụng của hàm chỉ là chuẩn đoán "
   ]
  },
  {
   "cell_type": "code",
   "execution_count": null,
   "id": "4d7ca680",
   "metadata": {},
   "outputs": [],
   "source": []
  }
 ],
 "metadata": {
  "kernelspec": {
   "display_name": "Python 3 (ipykernel)",
   "language": "python",
   "name": "python3"
  },
  "language_info": {
   "codemirror_mode": {
    "name": "ipython",
    "version": 3
   },
   "file_extension": ".py",
   "mimetype": "text/x-python",
   "name": "python",
   "nbconvert_exporter": "python",
   "pygments_lexer": "ipython3",
   "version": "3.9.12"
  }
 },
 "nbformat": 4,
 "nbformat_minor": 5
}
